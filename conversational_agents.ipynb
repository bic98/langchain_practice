{
 "cells": [
  {
   "cell_type": "code",
   "execution_count": 5,
   "id": "403525a2-66bd-418c-9acf-048b57def40d",
   "metadata": {},
   "outputs": [],
   "source": [
    "from langchain_openai import ChatOpenAI\n",
    "from langchain_core.runnables.history import RunnableWithMessageHistory\n",
    "from langchain.memory import ChatMessageHistory\n",
    "from langchain_core.prompts import ChatPromptTemplate, MessagesPlaceholder\n",
    "import os\n",
    "from dotenv import load_dotenv\n",
    "load_dotenv()\n",
    "\n",
    "\n",
    "os.environ[\"OPENAI_API_KEY\"] = os.getenv('OPENAI_API_KEY')\n",
    "\n"
   ]
  },
  {
   "cell_type": "code",
   "execution_count": 6,
   "id": "9c2be7b7-44fc-42f3-be72-30e3b4ecfdab",
   "metadata": {},
   "outputs": [],
   "source": [
    "llm = ChatOpenAI(model = \"gpt-5\", max_tokens = 1000, temperature = 0)"
   ]
  },
  {
   "cell_type": "code",
   "execution_count": 8,
   "id": "060de7c6-4b65-4563-bcb9-92f32d61ea73",
   "metadata": {},
   "outputs": [],
   "source": [
    "store: dict[str, ChatMessageHistory] = {}\n",
    "\n",
    "def get_chat_history(session_id: str) -> ChatMessageHistory:\n",
    "    if session_id not in store:\n",
    "        store[session_id] = ChatMessageHistory()\n",
    "    return store[session_id]"
   ]
  },
  {
   "cell_type": "code",
   "execution_count": 9,
   "id": "827d0aa1-4d07-4e43-bc77-a94d511d99be",
   "metadata": {},
   "outputs": [],
   "source": [
    "prompt = ChatPromptTemplate.from_messages([\n",
    "    (\"system\", \"You are a helpful AI assistant.\"),\n",
    "    MessagesPlaceholder(variable_name=\"history\"),\n",
    "    (\"human\", \"{input}\")\n",
    "])"
   ]
  },
  {
   "cell_type": "code",
   "execution_count": 10,
   "id": "92882cc1-f5f1-4689-a1c0-ab4ff16335fa",
   "metadata": {},
   "outputs": [],
   "source": [
    "chain = prompt | llm"
   ]
  },
  {
   "cell_type": "code",
   "execution_count": 13,
   "id": "d4f912c5-109a-4f87-b3c7-0f1a50c82eb2",
   "metadata": {},
   "outputs": [],
   "source": [
    "chain_with_history = RunnableWithMessageHistory(\n",
    "    chain,\n",
    "    get_chat_history,\n",
    "    input_messages_key=\"input\",\n",
    "    history_messages_key=\"history\"\n",
    ")"
   ]
  },
  {
   "cell_type": "code",
   "execution_count": 14,
   "id": "0e6d44df-2a83-42a1-8447-b57ea3e31c9f",
   "metadata": {},
   "outputs": [
    {
     "name": "stdout",
     "output_type": "stream",
     "text": [
      "AI :  Hi! I’m doing well, thanks for asking. How are you? What can I help you with today?\n"
     ]
    }
   ],
   "source": [
    "session_id = 'inchan'\n",
    "response1 = chain_with_history.invoke(\n",
    "    {\"input\": \"hello how are you?\"}, \n",
    "    config = {\"configurable\": \n",
    "              {\"session_id\": session_id}\n",
    "             }\n",
    ")\n",
    "\n",
    "print(\"AI : \", response1.content)"
   ]
  },
  {
   "cell_type": "code",
   "execution_count": 15,
   "id": "839d4f81-2791-44e6-84c7-b38b94a6e88a",
   "metadata": {},
   "outputs": [
    {
     "name": "stdout",
     "output_type": "stream",
     "text": [
      "AI: Your previous message was: \"hello how are you?\"\n"
     ]
    }
   ],
   "source": [
    "response2 = chain_with_history.invoke(\n",
    "    {\"input\": \"What was my previous message?\"},\n",
    "    config={\"configurable\": {\"session_id\": session_id}}\n",
    ")\n",
    "print(\"AI:\", response2.content)"
   ]
  },
  {
   "cell_type": "code",
   "execution_count": 16,
   "id": "b36c60f1-2f0c-457e-a776-7a62dd2302f0",
   "metadata": {},
   "outputs": [
    {
     "name": "stdout",
     "output_type": "stream",
     "text": [
      "\n",
      "Conversation History:\n",
      "human: hello how are you?\n",
      "ai: Hi! I’m doing well, thanks for asking. How are you? What can I help you with today?\n",
      "human: What was my previous message?\n",
      "ai: Your previous message was: \"hello how are you?\"\n"
     ]
    }
   ],
   "source": [
    "print(\"\\nConversation History:\")\n",
    "for message in store[session_id].messages:\n",
    "    print(f\"{message.type}: {message.content}\")"
   ]
  }
 ],
 "metadata": {
  "kernelspec": {
   "display_name": "Python 3 (ipykernel)",
   "language": "python",
   "name": "python3"
  },
  "language_info": {
   "codemirror_mode": {
    "name": "ipython",
    "version": 3
   },
   "file_extension": ".py",
   "mimetype": "text/x-python",
   "name": "python",
   "nbconvert_exporter": "python",
   "pygments_lexer": "ipython3",
   "version": "3.12.3"
  }
 },
 "nbformat": 4,
 "nbformat_minor": 5
}
